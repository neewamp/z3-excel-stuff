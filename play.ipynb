{
 "cells": [
  {
   "cell_type": "code",
   "execution_count": 1,
   "metadata": {},
   "outputs": [],
   "source": [
    "from z3 import *"
   ]
  },
  {
   "cell_type": "code",
   "execution_count": 2,
   "metadata": {},
   "outputs": [
    {
     "name": "stdout",
     "output_type": "stream",
     "text": [
      "no solution\n"
     ]
    }
   ],
   "source": [
    "x = Int('x')\n",
    "y = Int('x')\n",
    "\n",
    "solve(x > 0, y < 1)"
   ]
  },
  {
   "cell_type": "code",
   "execution_count": 3,
   "metadata": {},
   "outputs": [
    {
     "name": "stdout",
     "output_type": "stream",
     "text": [
      "sat\n"
     ]
    }
   ],
   "source": [
    "s = Solver() # Quantified Non-linear Real Arithmetic\n",
    "a, b, c = Ints('a b c')\n",
    "s.add(And(a < 128, a > -128))\n",
    "s.add(And(b < 128, b > -128))\n",
    "s.add(And(c < 128, c > -128))\n",
    "\n",
    "s.add(not(a * (b + c) == a * b + a * c))\n",
    "print(s.check())\n"
   ]
  },
  {
   "cell_type": "code",
   "execution_count": 4,
   "metadata": {},
   "outputs": [],
   "source": [
    "\n",
    "\n",
    "from combinations import combinationsNoOrder\n",
    "from model_helpers import create_sheet\n",
    "\n",
    "pmodel_vars = [\"Safe_Separation\", \"Target_Class_MissMatch\", \"Abort_Command_Recieved\"]\n",
    "values = combinationsNoOrder(len(pmodel_vars), [\"True\", \"False\"])\n",
    "defaults = ['A1 A2', 'A2', 'A1 A2', 'A6', 'A2', 'A5', 'A1 A5', 'A3', ]\n",
    "sheet = create_sheet(pmodel_vars, values, \"Control_Action\", defaults)\n",
    "\n",
    "\n",
    "pmodel_vars = [\"A1\", \"A2\", \"A3\"]\n",
    "values = combinationsNoOrder(len(pmodel_vars), [\"True\", \"False\"])\n",
    "defaults = ['Bad1', 'Bad', 'Bad3', 'Bad4', '', '', '', '', ]\n",
    "sheet1 = create_sheet(pmodel_vars, values, \"Control_Action\", defaults)\n",
    "\n",
    "# sheet\n"
   ]
  },
  {
   "cell_type": "code",
   "execution_count": 5,
   "metadata": {},
   "outputs": [
    {
     "data": {
      "application/vnd.jupyter.widget-view+json": {
       "model_id": "48806d75304c4f96b4d09b7542c20676",
       "version_major": 2,
       "version_minor": 0
      },
      "text/plain": [
       "Sheet(cells=(Cell(column_end=2, column_start=0, row_end=7, row_start=0, squeeze_column=False, squeeze_row=Fals…"
      ]
     },
     "execution_count": 5,
     "metadata": {},
     "output_type": "execute_result"
    }
   ],
   "source": [
    "sheet "
   ]
  },
  {
   "cell_type": "code",
   "execution_count": 6,
   "metadata": {},
   "outputs": [
    {
     "data": {
      "application/vnd.jupyter.widget-view+json": {
       "model_id": "09c5a5b4cd0a4b2eb41c9ea57d547f4d",
       "version_major": 2,
       "version_minor": 0
      },
      "text/plain": [
       "Sheet(cells=(Cell(column_end=2, column_start=0, row_end=7, row_start=0, squeeze_column=False, squeeze_row=Fals…"
      ]
     },
     "execution_count": 6,
     "metadata": {},
     "output_type": "execute_result"
    }
   ],
   "source": [
    "sheet1 "
   ]
  },
  {
   "cell_type": "code",
   "execution_count": 17,
   "metadata": {},
   "outputs": [
    {
     "name": "stdout",
     "output_type": "stream",
     "text": [
      "Not(Or(Bad1, Bad, Bad3, Bad4, fhnjgh)), does not universally hold here is a counter example: \n",
      "[A2 = True,\n",
      " Bad4 = False,\n",
      " Safe_Separation = True,\n",
      " A1 = True,\n",
      " fhnjgh = True,\n",
      " A5 = False,\n",
      " Abort_Command_Recieved = True,\n",
      " Bad = False,\n",
      " Bad1 = False,\n",
      " A3 = False,\n",
      " Target_Class_MissMatch = False,\n",
      " A6 = False,\n",
      " Bad3 = False]\n"
     ]
    }
   ],
   "source": [
    "from model_helpers import create_model\n",
    "from z3 import *\n",
    "\n",
    "s, _, action_variables = create_model(sheet)\n",
    "\n",
    "\"\"\" s.prove(Not(And(action_variables['A1'], action_variables['A5'])))\n",
    "s.prove(Not(action_variables['A3']))\n",
    " \"\"\"\n",
    "_, ucas = s.append_to_model(sheet1)\n",
    "exists_a_bad = Or([uca for uca in ucas.values()])\n",
    "s.prove(Not(exists_a_bad))\n",
    "\n"
   ]
  }
 ],
 "metadata": {
  "kernelspec": {
   "display_name": "Python 3",
   "language": "python",
   "name": "python3"
  },
  "language_info": {
   "codemirror_mode": {
    "name": "ipython",
    "version": 3
   },
   "file_extension": ".py",
   "mimetype": "text/x-python",
   "name": "python",
   "nbconvert_exporter": "python",
   "pygments_lexer": "ipython3",
   "version": "3.10.12"
  },
  "orig_nbformat": 4
 },
 "nbformat": 4,
 "nbformat_minor": 2
}
